{
 "cells": [
  {
   "cell_type": "markdown",
   "metadata": {},
   "source": [
    "# TF-IDF\n",
    "\n",
    "Term Frequency, Inverse Document Frequency\n",
    "\n",
    "If a word appears frequently in a document it is important, high score\n",
    "\n",
    "If a word appears in many documents, it is not unique, low score"
   ]
  },
  {
   "cell_type": "code",
   "execution_count": null,
   "metadata": {},
   "outputs": [],
   "source": [
    "# W = tf * log(N / df)\n",
    "# W is td-idf weight for a given token in document\n",
    "# tf = number of occurences of a token in document\n",
    "# df = number of documents that contain token\n",
    "# N = total number of documents"
   ]
  }
 ],
 "metadata": {
  "kernelspec": {
   "display_name": "Python 3",
   "language": "python",
   "name": "python3"
  },
  "language_info": {
   "codemirror_mode": {
    "name": "ipython",
    "version": 3
   },
   "file_extension": ".py",
   "mimetype": "text/x-python",
   "name": "python",
   "nbconvert_exporter": "python",
   "pygments_lexer": "ipython3",
   "version": "3.7.1"
  }
 },
 "nbformat": 4,
 "nbformat_minor": 2
}
