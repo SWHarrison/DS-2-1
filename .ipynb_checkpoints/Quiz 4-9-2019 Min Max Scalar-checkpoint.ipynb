{
 "cells": [
  {
   "cell_type": "code",
   "execution_count": null,
   "metadata": {},
   "outputs": [],
   "source": [
    "matrix = [[1000,2],\n",
    "          [1500,3]]\n",
    "\n",
    "def quiz(matrix):\n",
    "    \n",
    "    for c in matrix[0]:\n",
    "        \n",
    "        column_values = list()\n",
    "        \n",
    "        for r in matrix\n",
    "        \n",
    "            column_values.append(matrix[r][c])\n"
   ]
  }
 ],
 "metadata": {
  "kernelspec": {
   "display_name": "Python 3",
   "language": "python",
   "name": "python3"
  },
  "language_info": {
   "codemirror_mode": {
    "name": "ipython",
    "version": 3
   },
   "file_extension": ".py",
   "mimetype": "text/x-python",
   "name": "python",
   "nbconvert_exporter": "python",
   "pygments_lexer": "ipython3",
   "version": "3.7.1"
  }
 },
 "nbformat": 4,
 "nbformat_minor": 2
}
