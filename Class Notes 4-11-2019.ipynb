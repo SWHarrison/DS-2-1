{
 "cells": [
  {
   "cell_type": "markdown",
   "metadata": {},
   "source": [
    "### Logistic Regression is similar to linear regression, but does not use a straight line. It can be used to predict the probability of a condition, unlike a SVM which only classifies a specific condition."
   ]
  },
  {
   "cell_type": "code",
   "execution_count": 1,
   "metadata": {},
   "outputs": [],
   "source": [
    "import pandas as pd\n",
    "import matplotlib.pyplot as plt\n",
    "\n",
    "pima = pd.read_csv('diabetes.csv')\n",
    "\n",
    "feature_cols = ['Pregnancies','Insulin','BMI','Age']"
   ]
  },
  {
   "cell_type": "code",
   "execution_count": 2,
   "metadata": {},
   "outputs": [
    {
     "name": "stdout",
     "output_type": "stream",
     "text": [
      "0    500\n",
      "1    268\n",
      "Name: Outcome, dtype: int64\n",
      "0    130\n",
      "1     62\n",
      "Name: Outcome, dtype: int64\n",
      "0.25\n"
     ]
    }
   ],
   "source": [
    "from sklearn.model_selection import train_test_split\n",
    "\n",
    "X = pima[feature_cols]\n",
    "\n",
    "y = pima['Outcome']\n",
    "\n",
    "X_train, X_test, y_train, y_test = train_test_split(X,y,test_size = 0.25, random_state=0)\n",
    "\n",
    "print(y.value_counts())\n",
    "print(y_test.value_counts())\n",
    "\n",
    "print(len(y_test) / len(y))"
   ]
  },
  {
   "cell_type": "code",
   "execution_count": 3,
   "metadata": {},
   "outputs": [
    {
     "name": "stderr",
     "output_type": "stream",
     "text": [
      "/anaconda3/lib/python3.7/site-packages/sklearn/linear_model/logistic.py:433: FutureWarning: Default solver will be changed to 'lbfgs' in 0.22. Specify a solver to silence this warning.\n",
      "  FutureWarning)\n"
     ]
    },
    {
     "data": {
      "text/plain": [
       "LogisticRegression(C=1.0, class_weight=None, dual=False, fit_intercept=True,\n",
       "          intercept_scaling=1, max_iter=100, multi_class='warn',\n",
       "          n_jobs=None, penalty='l2', random_state=None, solver='warn',\n",
       "          tol=0.0001, verbose=0, warm_start=False)"
      ]
     },
     "execution_count": 3,
     "metadata": {},
     "output_type": "execute_result"
    }
   ],
   "source": [
    "from sklearn.linear_model import LogisticRegression\n",
    "\n",
    "logreg = LogisticRegression()\n",
    "\n",
    "logreg.fit(X_train, y_train)"
   ]
  },
  {
   "cell_type": "code",
   "execution_count": 14,
   "metadata": {},
   "outputs": [
    {
     "data": {
      "text/plain": [
       "370"
      ]
     },
     "execution_count": 14,
     "metadata": {},
     "output_type": "execute_result"
    }
   ],
   "source": [
    "y_train.value_counts()[0]"
   ]
  },
  {
   "cell_type": "code",
   "execution_count": 15,
   "metadata": {},
   "outputs": [
    {
     "data": {
      "text/plain": [
       "206"
      ]
     },
     "execution_count": 15,
     "metadata": {},
     "output_type": "execute_result"
    }
   ],
   "source": [
    "y_train.value_counts()[1]"
   ]
  },
  {
   "cell_type": "code",
   "execution_count": 5,
   "metadata": {},
   "outputs": [
    {
     "name": "stdout",
     "output_type": "stream",
     "text": [
      "[1 0 0 1 0 0 1 1 0 0 1 1 0 0 0 0 1 0 0 0 1 1 0 0 0 0 0 0 0 0 0 0 0 0 0 1 1\n",
      " 0 0 0 0 0 0 1 1 0 0 1 1 1 0 0 1 0 0 0 0 1 1 1 1 0 0 1 1 1 1 0 0 0 0 0 0 0\n",
      " 1 0 0 0 0 0 0 0 0 0 0 0 1 0 1 0 0 0 0 0 0 0 1 0 1 1 0 0 0 0 0 1 0 0 0 1 0\n",
      " 1 1 1 1 1 0 0 0 1 0 0 0 0 0 0 0 1 0 0 0 0 0 1 0 1 0 1 1 0 0 0 0 0 1 0 0 0\n",
      " 0 1 0 1 0 0 1 0 0 0 1 1 1 1 0 0 0 1 0 0 0 0 0 0 1 1 0 0 0 0 0 0 1 1 0 1 1\n",
      " 0 1 1 1 0 0 0]\n",
      "<class 'numpy.ndarray'>\n"
     ]
    }
   ],
   "source": [
    "print(y_test.values.T)\n",
    "\n",
    "print(type(y_test.values.T))"
   ]
  },
  {
   "cell_type": "code",
   "execution_count": 6,
   "metadata": {},
   "outputs": [],
   "source": [
    "def comp_y_test_y_pred(y_test, y_pred):\n",
    "    \n",
    "    to_return = list()\n",
    "    to_return.append([0,0])\n",
    "    to_return.append([0,0])\n",
    "    \n",
    "    for index in range(len(y_pred)):\n",
    "        \n",
    "        to_return[y_test[index]][y_pred[index]] += 1\n",
    "        \n",
    "    return to_return\n",
    "\n",
    "confusion_matrix = comp_y_test_y_pred(y_test.values.T, y_pred)"
   ]
  },
  {
   "cell_type": "code",
   "execution_count": 7,
   "metadata": {},
   "outputs": [
    {
     "name": "stdout",
     "output_type": "stream",
     "text": [
      "0.6927083333333334\n"
     ]
    }
   ],
   "source": [
    "print((confusion_matrix[0][0] + confusion_matrix[1][1]) / len(y_test))"
   ]
  },
  {
   "cell_type": "markdown",
   "metadata": {},
   "source": [
    "### Could also use this code:"
   ]
  },
  {
   "cell_type": "code",
   "execution_count": 8,
   "metadata": {},
   "outputs": [
    {
     "name": "stdout",
     "output_type": "stream",
     "text": [
      "0.6927083333333334\n"
     ]
    }
   ],
   "source": [
    "from sklearn import metrics\n",
    "metrics.confusion_matrix(y_test, y_pred)\n",
    "print(metrics.accuracy_score(y_test, y_pred))"
   ]
  },
  {
   "cell_type": "code",
   "execution_count": 9,
   "metadata": {},
   "outputs": [
    {
     "name": "stdout",
     "output_type": "stream",
     "text": [
      "0.6927083333333334\n",
      "0.5555555555555556\n",
      "0.24193548387096775\n",
      "0.3370786516853933\n"
     ]
    }
   ],
   "source": [
    "def accuracy(c_m):\n",
    "    \n",
    "    return (c_m[1][1] + c_m[0][0])/(c_m[1][1] + c_m[0][0] + c_m[1][0] + c_m[0][1])\n",
    "\n",
    "def precision(c_m):\n",
    "    \n",
    "    return (c_m[1][1])/(c_m[1][1] + c_m[0][1])\n",
    "\n",
    "def recall(c_m):\n",
    "    \n",
    "    return (c_m[1][1])/(c_m[1][1] + c_m[1][0])\n",
    "\n",
    "def f1_score(c_m):\n",
    "    \n",
    "    prec = precision(c_m)\n",
    "    rec = recall(c_m)\n",
    "    return 2 * (prec * rec) / (prec + rec)\n",
    "\n",
    "#confusion_matrix = [[3,1],[5,3]]\n",
    "\n",
    "print(accuracy(confusion_matrix))\n",
    "print(precision(confusion_matrix))\n",
    "print(recall(confusion_matrix))\n",
    "print(f1_score(confusion_matrix))"
   ]
  },
  {
   "cell_type": "code",
   "execution_count": 20,
   "metadata": {},
   "outputs": [
    {
     "name": "stdout",
     "output_type": "stream",
     "text": [
      "[0.36752429 0.28356344 0.28895886 0.4141062  0.15896027 0.17065156\n",
      " 0.49889026 0.51341541 0.27678612 0.67189438 0.35755557 0.74087965\n",
      " 0.36050235 0.23012363 0.42654231 0.19103515 0.45763601 0.1190141\n",
      " 0.43928953 0.36961151 0.44187989 0.37611662 0.19816022 0.41677304\n",
      " 0.15548281 0.2531671  0.09743077 0.69633712 0.15358309 0.2197836\n",
      " 0.43094832 0.34216058 0.22396114 0.38073543 0.13342134 0.38790216\n",
      " 0.47049703 0.16204743 0.29548176 0.30918161 0.27299705 0.38816583\n",
      " 0.27353443 0.28881041 0.63471914 0.02365251 0.15820648 0.23018375\n",
      " 0.3484593  0.27580041 0.33264104 0.24880596 0.74489512 0.39001464\n",
      " 0.41625545 0.13575687 0.18895376 0.64777682 0.18922131 0.05685904\n",
      " 0.63991547 0.46636382 0.1250972  0.26957602 0.24919104 0.30570396\n",
      " 0.46376224 0.20963095 0.42847829 0.40762264 0.20169096 0.27027066\n",
      " 0.26255856 0.57238263 0.45467041 0.27716152 0.58001281 0.41599488\n",
      " 0.27276101 0.34099223 0.54626578 0.37930723 0.2992205  0.10059169\n",
      " 0.32872602 0.45101363 0.16036979 0.4896975  0.63230508 0.40738404\n",
      " 0.19794397 0.19698021 0.24463208 0.11147185 0.4158597  0.21561856\n",
      " 0.54124529 0.48803602 0.64652767 0.33940658 0.54263427 0.16213824\n",
      " 0.3778741  0.11311287 0.34781987 0.34042784 0.1790985  0.21324812\n",
      " 0.14710946 0.23014102 0.18404592 0.52224649 0.47099366 0.28884248\n",
      " 0.49325079 0.41744473 0.22915008 0.27022911 0.19243924 0.7498713\n",
      " 0.46500093 0.6645454  0.42098599 0.53564034 0.16034702 0.1435686\n",
      " 0.38142426 0.33827314 0.3630065  0.12842531 0.28333693 0.04005558\n",
      " 0.18481139 0.66716947 0.46352874 0.48715682 0.19910794 0.45861651\n",
      " 0.23216721 0.18369267 0.26391994 0.37492969 0.12916506 0.41413913\n",
      " 0.42460858 0.13832191 0.20781694 0.29477699 0.15825099 0.36016234\n",
      " 0.23741449 0.43350689 0.20619881 0.23162338 0.61111541 0.19731009\n",
      " 0.80071498 0.17808491 0.36488735 0.78618643 0.44080614 0.36559654\n",
      " 0.11760138 0.22843325 0.47865069 0.21320525 0.51498521 0.16122494\n",
      " 0.23740119 0.29374391 0.16670048 0.48716526 0.29969894 0.44651043\n",
      " 0.50169902 0.29246506 0.61736228 0.41593995 0.25820945 0.1741968\n",
      " 0.33519541 0.69606825 0.32454368 0.35730426 0.2336947  0.23738524\n",
      " 0.38409318 0.24691412 0.27954552 0.18501174 0.2622362  0.27856926]\n"
     ]
    },
    {
     "data": {
      "image/png": "[encoded data removed]",
      "text/plain": [
       "<Figure size 432x288 with 1 Axes>"
      ]
     },
     "metadata": {
      "needs_background": "light"
     },
     "output_type": "display_data"
    }
   ],
   "source": [
    "y_pred = logreg.predict(X_test)\n",
    "\n",
    "y_pred_prob = logreg.predict_proba(X_test)\n",
    "\n",
    "#print(y_pred)\n",
    "#print(y_pred_prob)\n",
    "\n",
    "#print(type(y_pred))\n",
    "\n",
    "print(y_pred_prob[:, 1])\n",
    "plt.hist(y_pred_prob[:, 1], bins = 8)\n",
    "plt.show()"
   ]
  },
  {
   "cell_type": "code",
   "execution_count": null,
   "metadata": {},
   "outputs": [],
   "source": []
  }
 ],
 "metadata": {
  "kernelspec": {
   "display_name": "Python 3",
   "language": "python",
   "name": "python3"
  },
  "language_info": {
   "codemirror_mode": {
    "name": "ipython",
    "version": 3
   },
   "file_extension": ".py",
   "mimetype": "text/x-python",
   "name": "python",
   "nbconvert_exporter": "python",
   "pygments_lexer": "ipython3",
   "version": "3.7.1"
  }
 },
 "nbformat": 4,
 "nbformat_minor": 2
}
